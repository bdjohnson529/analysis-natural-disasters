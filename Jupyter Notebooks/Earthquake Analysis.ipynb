{
 "cells": [
  {
   "cell_type": "markdown",
   "metadata": {},
   "source": [
    "# Earthquake Analysis\n",
    "\n",
    "This project analyzes earthquakes, using a public dataset provided by the USGS Nathional Earthquake Information Center (NEIC).\n",
    "\n",
    "### Datasets\n",
    "\n",
    "| Name | Source | Link |\n",
    "| :-- | :-- | :-- |\n",
    "| earthquakes.csv | USGS NEIC | [Kaggle](https://www.kaggle.com/usgs/earthquake-database)"
   ]
  },
  {
   "cell_type": "code",
   "execution_count": 35,
   "metadata": {},
   "outputs": [],
   "source": [
    "import pandas as pd\n",
    "import numpy as np\n",
    "from datetime import datetime"
   ]
  },
  {
   "cell_type": "code",
   "execution_count": 98,
   "metadata": {},
   "outputs": [],
   "source": [
    "df_quakes = pd.read_csv(r\"..\\Data\\earthquakes.csv\")"
   ]
  },
  {
   "cell_type": "markdown",
   "metadata": {},
   "source": [
    "# Data Types and Casting\n",
    "\n",
    "- [Review - Objects and Casting](https://github.com/bdjohnson529/Intro-To-Python/blob/master/Notes/Objects.md#types-and-casting)\n",
    "- [strftime and strptime](https://docs.python.org/3/library/datetime.html#strftime-and-strptime-behavior)\n",
    "\n",
    "One part of data cleaning involves converting variables to the proper types. Recall that Python has several basic variable types, including strings and integers. In addition to the basic object types, Python also has built-in object types which are more complex such as [`datetime`](https://docs.python.org/3/library/datetime.html). These more complex data types are less efficient, but include built in functions which make them useful.\n",
    "\n",
    "The first step of our data cleaning journey will be to cast the dates into the `datetime` object type. Dates can be formatted in a million different ways, and Pandas will usually default to reading in a date column as a string, leaving us the task of casting the string into a `datetime` column. "
   ]
  },
  {
   "cell_type": "code",
   "execution_count": 18,
   "metadata": {},
   "outputs": [
    {
     "name": "stdout",
     "output_type": "stream",
     "text": [
      "<class 'str'>\n",
      "<class 'int'>\n"
     ]
    }
   ],
   "source": [
    "# Simple example of casting\n",
    "# Cast a string to an integer\n",
    "\n",
    "mystr = '100'\n",
    "print(type(mystr))\n",
    "\n",
    "myint = int(mystr)\n",
    "print(type(myint))"
   ]
  },
  {
   "cell_type": "code",
   "execution_count": 27,
   "metadata": {},
   "outputs": [
    {
     "data": {
      "text/plain": [
       "Date                           object\n",
       "Time                           object\n",
       "Latitude                      float64\n",
       "Longitude                     float64\n",
       "Type                           object\n",
       "Depth                         float64\n",
       "Depth Error                   float64\n",
       "Depth Seismic Stations        float64\n",
       "Magnitude                     float64\n",
       "Magnitude Type                 object\n",
       "Magnitude Error               float64\n",
       "Magnitude Seismic Stations    float64\n",
       "Azimuthal Gap                 float64\n",
       "Horizontal Distance           float64\n",
       "Horizontal Error              float64\n",
       "Root Mean Square              float64\n",
       "ID                             object\n",
       "Source                         object\n",
       "Location Source                object\n",
       "Magnitude Source               object\n",
       "Status                         object\n",
       "dtype: object"
      ]
     },
     "execution_count": 27,
     "metadata": {},
     "output_type": "execute_result"
    }
   ],
   "source": [
    "# Object types in the Pandas dataframe\n",
    "\n",
    "df_quakes.dtypes"
   ]
  },
  {
   "cell_type": "code",
   "execution_count": 30,
   "metadata": {},
   "outputs": [
    {
     "data": {
      "text/plain": [
       "0        01/02/1965\n",
       "1        01/04/1965\n",
       "2        01/05/1965\n",
       "3        01/08/1965\n",
       "4        01/09/1965\n",
       "            ...    \n",
       "23407    12/28/2016\n",
       "23408    12/28/2016\n",
       "23409    12/28/2016\n",
       "23410    12/29/2016\n",
       "23411    12/30/2016\n",
       "Name: Date, Length: 23412, dtype: object"
      ]
     },
     "execution_count": 30,
     "metadata": {},
     "output_type": "execute_result"
    }
   ],
   "source": [
    "# Examples of dates\n",
    "\n",
    "df_quakes['Date']"
   ]
  },
  {
   "cell_type": "code",
   "execution_count": 55,
   "metadata": {},
   "outputs": [
    {
     "name": "stdout",
     "output_type": "stream",
     "text": [
      "1985-04-28 00:00:00\n",
      "1985-04-28 00:00:00\n",
      "1965-01-09 00:00:00\n"
     ]
    }
   ],
   "source": [
    "# Write a function to convert the date string to a datetime object\n",
    "\n",
    "def convertDateStr(inputStr):\n",
    "    slashes = inputStr.find('/')\n",
    "    \n",
    "    if(slashes > -1):\n",
    "        dateObj = datetime.strptime(inputStr, '%m/%d/%Y')\n",
    "    else:\n",
    "        dateStr = inputStr.split('T')[0]\n",
    "        dateObj = datetime.strptime(dateStr, '%Y-%m-%d')\n",
    "        \n",
    "    return dateObj\n",
    "\n",
    "\n",
    "print(convertDateStr('1985-04-28T02:53:41.000Z'))\n",
    "print(convertDateStr('1985-04-28T02:53:41.530Z'))\n",
    "print(convertDateStr('01/09/1965'))"
   ]
  },
  {
   "cell_type": "code",
   "execution_count": 58,
   "metadata": {},
   "outputs": [],
   "source": [
    "# Apply our function to the dataframe\n",
    "df_quakes['Date_fmt'] = df_quakes['Date'].apply(convertDateStr)\n",
    "\n",
    "# Create a year column\n",
    "df_quakes['Year'] = df_quakes['Date_fmt'].apply(lambda x: x.strftime('%Y'))"
   ]
  },
  {
   "cell_type": "code",
   "execution_count": 64,
   "metadata": {},
   "outputs": [
    {
     "data": {
      "text/html": [
       "<div>\n",
       "<style scoped>\n",
       "    .dataframe tbody tr th:only-of-type {\n",
       "        vertical-align: middle;\n",
       "    }\n",
       "\n",
       "    .dataframe tbody tr th {\n",
       "        vertical-align: top;\n",
       "    }\n",
       "\n",
       "    .dataframe thead th {\n",
       "        text-align: right;\n",
       "    }\n",
       "</style>\n",
       "<table border=\"1\" class=\"dataframe\">\n",
       "  <thead>\n",
       "    <tr style=\"text-align: right;\">\n",
       "      <th></th>\n",
       "      <th>Date</th>\n",
       "      <th>Date_fmt</th>\n",
       "      <th>Year</th>\n",
       "      <th>Magnitude</th>\n",
       "      <th>Magnitude Type</th>\n",
       "    </tr>\n",
       "  </thead>\n",
       "  <tbody>\n",
       "    <tr>\n",
       "      <th>0</th>\n",
       "      <td>01/02/1965</td>\n",
       "      <td>1965-01-02</td>\n",
       "      <td>1965</td>\n",
       "      <td>6.0</td>\n",
       "      <td>MW</td>\n",
       "    </tr>\n",
       "    <tr>\n",
       "      <th>1</th>\n",
       "      <td>01/04/1965</td>\n",
       "      <td>1965-01-04</td>\n",
       "      <td>1965</td>\n",
       "      <td>5.8</td>\n",
       "      <td>MW</td>\n",
       "    </tr>\n",
       "    <tr>\n",
       "      <th>2</th>\n",
       "      <td>01/05/1965</td>\n",
       "      <td>1965-01-05</td>\n",
       "      <td>1965</td>\n",
       "      <td>6.2</td>\n",
       "      <td>MW</td>\n",
       "    </tr>\n",
       "    <tr>\n",
       "      <th>3</th>\n",
       "      <td>01/08/1965</td>\n",
       "      <td>1965-01-08</td>\n",
       "      <td>1965</td>\n",
       "      <td>5.8</td>\n",
       "      <td>MW</td>\n",
       "    </tr>\n",
       "    <tr>\n",
       "      <th>4</th>\n",
       "      <td>01/09/1965</td>\n",
       "      <td>1965-01-09</td>\n",
       "      <td>1965</td>\n",
       "      <td>5.8</td>\n",
       "      <td>MW</td>\n",
       "    </tr>\n",
       "    <tr>\n",
       "      <th>...</th>\n",
       "      <td>...</td>\n",
       "      <td>...</td>\n",
       "      <td>...</td>\n",
       "      <td>...</td>\n",
       "      <td>...</td>\n",
       "    </tr>\n",
       "    <tr>\n",
       "      <th>23407</th>\n",
       "      <td>12/28/2016</td>\n",
       "      <td>2016-12-28</td>\n",
       "      <td>2016</td>\n",
       "      <td>5.6</td>\n",
       "      <td>ML</td>\n",
       "    </tr>\n",
       "    <tr>\n",
       "      <th>23408</th>\n",
       "      <td>12/28/2016</td>\n",
       "      <td>2016-12-28</td>\n",
       "      <td>2016</td>\n",
       "      <td>5.5</td>\n",
       "      <td>ML</td>\n",
       "    </tr>\n",
       "    <tr>\n",
       "      <th>23409</th>\n",
       "      <td>12/28/2016</td>\n",
       "      <td>2016-12-28</td>\n",
       "      <td>2016</td>\n",
       "      <td>5.9</td>\n",
       "      <td>MWW</td>\n",
       "    </tr>\n",
       "    <tr>\n",
       "      <th>23410</th>\n",
       "      <td>12/29/2016</td>\n",
       "      <td>2016-12-29</td>\n",
       "      <td>2016</td>\n",
       "      <td>6.3</td>\n",
       "      <td>MWW</td>\n",
       "    </tr>\n",
       "    <tr>\n",
       "      <th>23411</th>\n",
       "      <td>12/30/2016</td>\n",
       "      <td>2016-12-30</td>\n",
       "      <td>2016</td>\n",
       "      <td>5.5</td>\n",
       "      <td>MB</td>\n",
       "    </tr>\n",
       "  </tbody>\n",
       "</table>\n",
       "<p>23412 rows × 5 columns</p>\n",
       "</div>"
      ],
      "text/plain": [
       "             Date   Date_fmt  Year  Magnitude Magnitude Type\n",
       "0      01/02/1965 1965-01-02  1965        6.0             MW\n",
       "1      01/04/1965 1965-01-04  1965        5.8             MW\n",
       "2      01/05/1965 1965-01-05  1965        6.2             MW\n",
       "3      01/08/1965 1965-01-08  1965        5.8             MW\n",
       "4      01/09/1965 1965-01-09  1965        5.8             MW\n",
       "...           ...        ...   ...        ...            ...\n",
       "23407  12/28/2016 2016-12-28  2016        5.6             ML\n",
       "23408  12/28/2016 2016-12-28  2016        5.5             ML\n",
       "23409  12/28/2016 2016-12-28  2016        5.9            MWW\n",
       "23410  12/29/2016 2016-12-29  2016        6.3            MWW\n",
       "23411  12/30/2016 2016-12-30  2016        5.5             MB\n",
       "\n",
       "[23412 rows x 5 columns]"
      ]
     },
     "execution_count": 64,
     "metadata": {},
     "output_type": "execute_result"
    }
   ],
   "source": [
    "# Using double braces we can select columns within a dataframe\n",
    "df_quakes[['Date', 'Date_fmt', 'Year', 'Magnitude', 'Magnitude Type']]"
   ]
  },
  {
   "cell_type": "code",
   "execution_count": 95,
   "metadata": {},
   "outputs": [
    {
     "data": {
      "text/html": [
       "<div>\n",
       "<style scoped>\n",
       "    .dataframe tbody tr th:only-of-type {\n",
       "        vertical-align: middle;\n",
       "    }\n",
       "\n",
       "    .dataframe tbody tr th {\n",
       "        vertical-align: top;\n",
       "    }\n",
       "\n",
       "    .dataframe thead th {\n",
       "        text-align: right;\n",
       "    }\n",
       "</style>\n",
       "<table border=\"1\" class=\"dataframe\">\n",
       "  <thead>\n",
       "    <tr style=\"text-align: right;\">\n",
       "      <th></th>\n",
       "      <th>Count</th>\n",
       "    </tr>\n",
       "    <tr>\n",
       "      <th>Year</th>\n",
       "      <th></th>\n",
       "    </tr>\n",
       "  </thead>\n",
       "  <tbody>\n",
       "    <tr>\n",
       "      <th>1965</th>\n",
       "      <td>339</td>\n",
       "    </tr>\n",
       "    <tr>\n",
       "      <th>1966</th>\n",
       "      <td>234</td>\n",
       "    </tr>\n",
       "    <tr>\n",
       "      <th>1967</th>\n",
       "      <td>255</td>\n",
       "    </tr>\n",
       "    <tr>\n",
       "      <th>1968</th>\n",
       "      <td>305</td>\n",
       "    </tr>\n",
       "    <tr>\n",
       "      <th>1969</th>\n",
       "      <td>323</td>\n",
       "    </tr>\n",
       "  </tbody>\n",
       "</table>\n",
       "</div>"
      ],
      "text/plain": [
       "      Count\n",
       "Year       \n",
       "1965    339\n",
       "1966    234\n",
       "1967    255\n",
       "1968    305\n",
       "1969    323"
      ]
     },
     "execution_count": 95,
     "metadata": {},
     "output_type": "execute_result"
    }
   ],
   "source": [
    "# count earthquakes per year\n",
    "df_peryear = df_quakes[['Year', 'Magnitude']].groupby(['Year']).count() \\\n",
    "                                            .rename(columns={'Magnitude': 'Count'})\n",
    "\n",
    "\n",
    "# .head() function can be used to access top n elements of dataframe\n",
    "df_peryear.head()"
   ]
  },
  {
   "cell_type": "code",
   "execution_count": 97,
   "metadata": {},
   "outputs": [
    {
     "name": "stdout",
     "output_type": "stream",
     "text": [
      "[1965 1970 1975 1980 1985 1990 1995 2000 2005 2010 2015]\n"
     ]
    },
    {
     "data": {
      "text/plain": [
       "<matplotlib.axes._subplots.AxesSubplot at 0x2274732d748>"
      ]
     },
     "execution_count": 97,
     "metadata": {},
     "output_type": "execute_result"
    },
    {
     "data": {
      "image/png": "[encoded data removed]",
      "text/plain": [
       "<Figure size 432x288 with 1 Axes>"
      ]
     },
     "metadata": {
      "needs_background": "light"
     },
     "output_type": "display_data"
    }
   ],
   "source": [
    "import matplotlib.pyplot as plt\n",
    "\n",
    "x_ticks = np.arange(1965, 2016, 5)\n",
    "print(x_ticks)\n",
    "\n",
    "df_peryear.plot()"
   ]
  }
 ],
 "metadata": {
  "kernelspec": {
   "display_name": "Python 3",
   "language": "python",
   "name": "python3"
  },
  "language_info": {
   "codemirror_mode": {
    "name": "ipython",
    "version": 3
   },
   "file_extension": ".py",
   "mimetype": "text/x-python",
   "name": "python",
   "nbconvert_exporter": "python",
   "pygments_lexer": "ipython3",
   "version": "3.7.6"
  }
 },
 "nbformat": 4,
 "nbformat_minor": 4
}
